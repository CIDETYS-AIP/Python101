{
 "cells": [
  {
   "cell_type": "code",
   "execution_count": 1,
   "metadata": {},
   "outputs": [],
   "source": [
    "#pruebas\n",
    "from bs4 import BeautifulSoup as bs\n",
    "# html=open('search.html','r')\n",
    "html=open('personalidades.html','r')\n",
    "# html=open('ayuda2.txt','r')\n",
    "contenido=bs(html,'html.parser')"
   ]
  },
  {
   "cell_type": "code",
   "execution_count": 6,
   "metadata": {},
   "outputs": [
    {
     "name": "stdout",
     "output_type": "stream",
     "text": [
      "<li class=\"active\">\n",
      "<a href=\"https://www.16personalities.com/personality-types\">\n",
      "<span class=\"nav__text\">Personality Types</span>\n",
      "<span class=\"sp-icon icon--md icon--inherit icon--rotatable icon--an-dn icon--angle\" style=\"display: inline-flex\"><svg role=\"img\" viewbox=\"0 0 48 48\" xmlns=\"http://www.w3.org/2000/svg\"><path d=\"M23.203125,30.646875 L12.328125,19.603125 C11.8875,19.1625 11.8875,18.45 12.328125,18.009375 L12.99375,17.34375 C13.434375,16.903125 14.146875,16.903125 14.5875,17.34375 L24,26.934375 L33.4125,17.353125 C33.853125,16.9125 34.565625,16.9125 35.00625,17.353125 L35.671875,18.01875 C36.1125,18.459375 36.1125,19.171875 35.671875,19.6125 L24.796875,30.65625 C24.35625,31.0875 23.64375,31.0875 23.203125,30.646875 Z\"></path></svg></span>\n",
      "<ul>\n",
      "<li>\n",
      "<a href=\"https://www.16personalities.com/personality-types#analysts\">\n",
      "<div>\n",
      "<div>Analysts</div>\n",
      "<div>Intuitive (N) and Thinking (T) personality types, known for their rationality, impartiality, and intellectual excellence.</div>\n",
      "</div>\n",
      "</a>\n",
      "<ul>\n",
      "<li><a href=\"https://www.16personalities.com/intj-personality\">Architect (INTJ)</a></li>\n",
      "<li><a href=\"https://www.16personalities.com/intp-personality\">Logician (INTP)</a></li>\n",
      "<li><a href=\"https://www.16personalities.com/entj-personality\">Commander (ENTJ)</a></li>\n",
      "<li><a href=\"https://www.16personalities.com/entp-personality\">Debater (ENTP)</a></li>\n",
      "</ul>\n",
      "</li>\n",
      "<li>\n",
      "<a href=\"https://www.16personalities.com/personality-types#diplomats\">\n",
      "<div>\n",
      "<div>Diplomats</div>\n",
      "<div>Intuitive (N) and Feeling (F) personality types, known for their empathy, diplomatic skills, and passionate idealism.</div>\n",
      "</div>\n",
      "</a>\n",
      "<ul>\n",
      "<li><a href=\"https://www.16personalities.com/infj-personality\">Advocate (INFJ)</a></li>\n",
      "<li><a href=\"https://www.16personalities.com/infp-personality\">Mediator (INFP)</a></li>\n",
      "<li><a href=\"https://www.16personalities.com/enfj-personality\">Protagonist (ENFJ)</a></li>\n",
      "<li><a href=\"https://www.16personalities.com/enfp-personality\">Campaigner (ENFP)</a></li>\n",
      "</ul>\n",
      "</li>\n",
      "<li>\n",
      "<a href=\"https://www.16personalities.com/personality-types#sentinels\">\n",
      "<div>\n",
      "<div>Sentinels</div>\n",
      "<div>Observant (S) and Judging (J) personality types, known for their practicality and focus on order, security, and stability.</div>\n",
      "</div>\n",
      "</a>\n",
      "<ul>\n",
      "<li><a href=\"https://www.16personalities.com/istj-personality\">Logistician (ISTJ)</a></li>\n",
      "<li><a href=\"https://www.16personalities.com/isfj-personality\">Defender (ISFJ)</a></li>\n",
      "<li><a href=\"https://www.16personalities.com/estj-personality\">Executive (ESTJ)</a></li>\n",
      "<li><a href=\"https://www.16personalities.com/esfj-personality\">Consul (ESFJ)</a></li>\n",
      "</ul>\n",
      "</li>\n",
      "<li>\n",
      "<a href=\"https://www.16personalities.com/personality-types#explorers\">\n",
      "<div>\n",
      "<div>Explorers</div>\n",
      "<div>Observant (S) and Prospecting (P) personality types, known for their spontaneity, ingenuity, and flexibility.</div>\n",
      "</div>\n",
      "</a>\n",
      "<ul>\n",
      "<li><a href=\"https://www.16personalities.com/istp-personality\">Virtuoso (ISTP)</a></li>\n",
      "<li><a href=\"https://www.16personalities.com/isfp-personality\">Adventurer (ISFP)</a></li>\n",
      "<li><a href=\"https://www.16personalities.com/estp-personality\">Entrepreneur (ESTP)</a></li>\n",
      "<li><a href=\"https://www.16personalities.com/esfp-personality\">Entertainer (ESFP)</a></li>\n",
      "</ul>\n",
      "</li>\n",
      "</ul>\n",
      "</a>\n",
      "</li>\n"
     ]
    }
   ],
   "source": [
    "a=str(contenido('li',class_='active')[0])\n",
    "print(a)"
   ]
  },
  {
   "cell_type": "code",
   "execution_count": 7,
   "metadata": {},
   "outputs": [],
   "source": [
    "import re"
   ]
  },
  {
   "cell_type": "code",
   "execution_count": 8,
   "metadata": {},
   "outputs": [
    {
     "name": "stdout",
     "output_type": "stream",
     "text": [
      "('https://www.16personalities.com/intj-personality', 'Architect (INTJ)')\n",
      "('https://www.16personalities.com/intp-personality', 'Logician (INTP)')\n",
      "('https://www.16personalities.com/entj-personality', 'Commander (ENTJ)')\n",
      "('https://www.16personalities.com/entp-personality', 'Debater (ENTP)')\n",
      "('https://www.16personalities.com/infj-personality', 'Advocate (INFJ)')\n",
      "('https://www.16personalities.com/infp-personality', 'Mediator (INFP)')\n",
      "('https://www.16personalities.com/enfj-personality', 'Protagonist (ENFJ)')\n",
      "('https://www.16personalities.com/enfp-personality', 'Campaigner (ENFP)')\n",
      "('https://www.16personalities.com/istj-personality', 'Logistician (ISTJ)')\n",
      "('https://www.16personalities.com/isfj-personality', 'Defender (ISFJ)')\n",
      "('https://www.16personalities.com/estj-personality', 'Executive (ESTJ)')\n",
      "('https://www.16personalities.com/esfj-personality', 'Consul (ESFJ)')\n",
      "('https://www.16personalities.com/istp-personality', 'Virtuoso (ISTP)')\n",
      "('https://www.16personalities.com/isfp-personality', 'Adventurer (ISFP)')\n",
      "('https://www.16personalities.com/estp-personality', 'Entrepreneur (ESTP)')\n",
      "('https://www.16personalities.com/esfp-personality', 'Entertainer (ESFP)')\n"
     ]
    }
   ],
   "source": [
    "#links y personalidades\n",
    "for z in re.findall(r'href=\"(.*)\">(.*)</a',a):\n",
    "    print(z)"
   ]
  },
  {
   "cell_type": "code",
   "execution_count": 9,
   "metadata": {},
   "outputs": [
    {
     "name": "stdout",
     "output_type": "stream",
     "text": [
      "['Analysts', 'Intuitive (N) and Thinking (T) personality types, known for their rationality, impartiality, and intellectual excellence.', 'Diplomats', 'Intuitive (N) and Feeling (F) personality types, known for their empathy, diplomatic skills, and passionate idealism.', 'Sentinels', 'Observant (S) and Judging (J) personality types, known for their practicality and focus on order, security, and stability.', 'Explorers', 'Observant (S) and Prospecting (P) personality types, known for their spontaneity, ingenuity, and flexibility.']\n"
     ]
    }
   ],
   "source": [
    "z=re.findall(r'<div>(.*)</div>',a)\n",
    "print(z)"
   ]
  },
  {
   "cell_type": "code",
   "execution_count": null,
   "metadata": {},
   "outputs": [],
   "source": [
    "#prueba de pyautogui\n",
    "import pyautogui as pi\n",
    "import time \n",
    "print('aumentando zoom')\n",
    "pi.hotkey('ctrl','+')\n",
    "time.sleep(5)\n",
    "print('decreciendo zoom')\n",
    "pi.hotkey('ctrl','-')\n",
    "time.sleep(5)\n",
    "print('reset zoom')\n",
    "time.sleep(5)\n",
    "pi.hotkey('ctrl','0')"
   ]
  },
  {
   "cell_type": "code",
   "execution_count": null,
   "metadata": {},
   "outputs": [],
   "source": [
    "a=open('ayuda2.txt','r')\n",
    "b=a.read()\n",
    "print(b)"
   ]
  },
  {
   "cell_type": "code",
   "execution_count": 1,
   "metadata": {},
   "outputs": [],
   "source": [
    "import re"
   ]
  },
  {
   "cell_type": "code",
   "execution_count": 6,
   "metadata": {},
   "outputs": [
    {
     "name": "stdout",
     "output_type": "stream",
     "text": [
      "0.94873\n"
     ]
    }
   ],
   "source": [
    "a='<span class=\"DFlfde SwHCTb\" data-precision=\"5\" data-value=\"0.94873\">0.95</span>'\n",
    "b=re.search(r'data-value=\"([\\d.]+)\"',a)\n",
    "print(b[1])"
   ]
  },
  {
   "cell_type": "code",
   "execution_count": null,
   "metadata": {},
   "outputs": [],
   "source": []
  }
 ],
 "metadata": {
  "kernelspec": {
   "display_name": "Python 3.11.0 64-bit",
   "language": "python",
   "name": "python3"
  },
  "language_info": {
   "codemirror_mode": {
    "name": "ipython",
    "version": 3
   },
   "file_extension": ".py",
   "mimetype": "text/x-python",
   "name": "python",
   "nbconvert_exporter": "python",
   "pygments_lexer": "ipython3",
   "version": "3.11.0 (main, Oct 24 2022, 18:26:48) [MSC v.1933 64 bit (AMD64)]"
  },
  "orig_nbformat": 4,
  "vscode": {
   "interpreter": {
    "hash": "0cf61dd76b7731da30efc621e7357e77b7952d7781b16ea643c7a309a8bc5ac6"
   }
  }
 },
 "nbformat": 4,
 "nbformat_minor": 2
}
